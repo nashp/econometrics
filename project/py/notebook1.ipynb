{
 "cells": [
  {
   "cell_type": "code",
   "execution_count": null,
   "metadata": {
    "collapsed": true
   },
   "outputs": [],
   "source": [
    "import pandas as pd\n",
    "import dbnomics\n",
    "import quandl\n",
    "# fit an ARIMA model and plot residual errors\n",
    "from pandas import datetime\n",
    "from pandas import read_csv\n",
    "from pandas import DataFrame\n",
    "from statsmodels.tsa.arima_model import ARIMA\n",
    "from statsmodels.tsa.ar_model import AR\n",
    "from sklearn.linear_model import LinearRegression\n",
    "\n",
    "from matplotlib import pyplot\n",
    "\n",
    "import future\n",
    "\n",
    "# Brent: ICE_B1/2\n",
    "# WTI: CME_BK1/2\n",
    "# GAS: CME_NG\n",
    "# Heating oil: CME_HO\n",
    "# Gasoline: CME_RB\n",
    "# Wht: CME_W1/2 , ICE_IW1/2\n",
    "# Corn: CME_C1/2, ICE_IC1/2\n",
    "# Copper: CME_HG1/2\n",
    "# LEad: MCX_PB1/2\n",
    "# Aluminium: CME_AL1/2\n",
    "# Hog: CME_LN\n",
    "# Cattle: CME_LC\n",
    "# Coffee KC\n",
    "\n",
    "\n",
    "quandl.ApiConfig.api_key = 'Z2WYzGME3qmxnqQgBcdX'\n",
    "\n",
    "co_tickers = [\"ICE_B\", \"CME_BK\", \"CME_W\", \"CME_C\",\n",
    "                 \"CME_HG\", \"MCX_PB\", \"CME_ALI\", \"CME_NG\",\n",
    "                 \"CME_LN\", \"ICE_KC\", \"ICE_CT\", \"ICE_CC\", \"ICE_SB\",\n",
    "                 \"CME_HO\", \"CME_RB\"]\n",
    "\n",
    "co_meta_data_path = \"../../data/CHRIS_metadata.csv\"\n",
    "\n",
    "co_meta_data = pd.read_csv(co_meta_data_path)\n",
    "\n",
    "first_f = pd.DataFrame()\n",
    "second_f = pd.DataFrame()\n",
    "\n",
    "n_contracts = 12\n",
    "\n",
    "\n"
   ]
  },
  {
   "cell_type": "code",
   "execution_count": null,
   "metadata": {
    "collapsed": true
   },
   "outputs": [],
   "source": [
    "futures = {}\n",
    "\n",
    "for ticker in co_tickers:\n",
    "\n",
    "    first_future = \"CHRIS/\" + ticker + \"1\"\n",
    "    second_future = \"CHRIS/\" + ticker + \"2\"\n",
    "    third_future = \"CHRIS/\" + ticker + \"3\"\n",
    "\n",
    "    f1 = quandl.get(first_future, start_date='2000-01-01', end_date='2020-12-31')\n",
    "    f2 = quandl.get(second_future, start_date='2000-01-01', end_date='2020-12-31')\n",
    "    f3 = quandl.get(third_future, start_date='2000-01-01', end_date='2020-12-31')\n",
    "    if \"Settle\" in f1.columns:\n",
    "        price_col = \"Settle\"\n",
    "    else:\n",
    "        price_col = \"Close\"\n",
    "\n",
    "    try:\n",
    "        header = ticker.split(sep=\"_\")[1]\n",
    "    except IndexError:\n",
    "        header = ticker.split(sep=\"_\")[0]\n",
    "\n",
    "    #first_f = pd.concat([first_f, f1[price_col].rename(header)], axis=1)\n",
    "    #second_f = pd.concat([second_f, f2[price_col].rename(header)], axis=1)\n",
    "    futures[header] = future.GenericFuture(ticker=header, number=\"1\", data=f1[price_col].rename(header))\n"
   ]
  },
  {
   "cell_type": "code",
   "execution_count": null,
   "metadata": {
    "collapsed": true
   },
   "outputs": [],
   "source": [
    "x = 2 + 2\n",
    "\n",
    "adsad  + asd"
   ]
  },
  {
   "cell_type": "code",
   "execution_count": null,
   "metadata": {
    "collapsed": true
   },
   "outputs": [],
   "source": [
    "print(x)"
   ]
  },
  {
   "cell_type": "code",
   "execution_count": null,
   "metadata": {
    "collapsed": true
   },
   "outputs": [],
   "source": [
    "import sys\n",
    "stdout = sys.stdout\n",
    "reload(sys)\n",
    "sys.setdefaultencoding('utf-8')\n",
    "sys.stdout = stdout"
   ]
  },
  {
   "cell_type": "code",
   "execution_count": null,
   "metadata": {
    "collapsed": false
   },
   "outputs": [],
   "source": []
  },
  {
   "cell_type": "code",
   "execution_count": null,
   "metadata": {
    "collapsed": true
   },
   "outputs": [],
   "source": []
  },
  {
   "cell_type": "code",
   "execution_count": null,
   "metadata": {
    "collapsed": true
   },
   "outputs": [],
   "source": []
  },
  {
   "cell_type": "code",
   "execution_count": null,
   "metadata": {
    "collapsed": true
   },
   "outputs": [],
   "source": []
  },
  {
   "cell_type": "code",
   "execution_count": null,
   "metadata": {
    "collapsed": true
   },
   "outputs": [],
   "source": []
  },
  {
   "cell_type": "code",
   "execution_count": null,
   "metadata": {
    "collapsed": true
   },
   "outputs": [],
   "source": []
  },
  {
   "cell_type": "code",
   "execution_count": null,
   "metadata": {
    "collapsed": true
   },
   "outputs": [],
   "source": []
  }
 ],
 "metadata": {
  "kernelspec": {
   "display_name": "Python 3",
   "language": "python",
   "name": "python3"
  }
 },
 "nbformat": 4,
 "nbformat_minor": 2
}
